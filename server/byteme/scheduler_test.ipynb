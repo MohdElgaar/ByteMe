{
 "cells": [
  {
   "cell_type": "markdown",
   "metadata": {},
   "source": [
    "# Crawling class tests"
   ]
  },
  {
   "cell_type": "markdown",
   "metadata": {},
   "source": [
    "## Scholar crawling tests"
   ]
  },
  {
   "cell_type": "code",
   "execution_count": 1,
   "metadata": {},
   "outputs": [],
   "source": [
    "import django\n",
    "import os\n",
    "os.environ.setdefault(\"DJANGO_SETTINGS_MODULE\", \"byteme.settings.base\")\n",
    "django.setup()"
   ]
  },
  {
   "cell_type": "code",
   "execution_count": 3,
   "metadata": {},
   "outputs": [],
   "source": [
    "from crawler.models import Crawler\n",
    "from accounts.models import Speaker\n",
    "from events.tag import Tag\n",
    "from events.models import Event"
   ]
  },
  {
   "cell_type": "code",
   "execution_count": null,
   "metadata": {},
   "outputs": [],
   "source": [
    "s1 = Speaker(name='Min H Kim', speakerEmail='1@kaist.ac.kr')\n",
    "s2 = Speaker(name='Daniel Suk Jeon', speakerEmail='2@kaist.ac.kr')\n",
    "s3 = Speaker(name='Osman', univ='Stanford', speakerEmail='3@kaist.ac.kr')\n",
    "s1.save()\n",
    "s2.save()\n",
    "s3.save()\n",
    "print(Speaker.objects.all())"
   ]
  },
  {
   "cell_type": "code",
   "execution_count": null,
   "metadata": {},
   "outputs": [],
   "source": [
    "s1 = Speaker.objects.all()[0]\n",
    "s2 = Speaker.objects.all()[1]\n",
    "s3 = Speaker.objects.all()[2]"
   ]
  },
  {
   "cell_type": "code",
   "execution_count": null,
   "metadata": {},
   "outputs": [],
   "source": [
    "my_crawler.scholar_crawl_request(s1)\n",
    "my_crawler.scholar_crawl_request(s2)\n",
    "my_crawler.scholar_crawl_request(s3)"
   ]
  },
  {
   "cell_type": "code",
   "execution_count": null,
   "metadata": {},
   "outputs": [],
   "source": [
    "Tag.objects.all()"
   ]
  },
  {
   "cell_type": "code",
   "execution_count": null,
   "metadata": {},
   "outputs": [],
   "source": [
    "for speaker in Speaker.objects.all():\n",
    "    print(speaker.tags.all())"
   ]
  },
  {
   "cell_type": "code",
   "execution_count": null,
   "metadata": {},
   "outputs": [],
   "source": [
    "print(Speaker.objects.all())"
   ]
  },
  {
   "cell_type": "code",
   "execution_count": null,
   "metadata": {},
   "outputs": [],
   "source": [
    "soup = out_dic['soup']\n",
    "cite_num = soup.find_all('a', class_='gsc_a_ac gs_ibl')\n",
    "print(cite_num)"
   ]
  },
  {
   "cell_type": "code",
   "execution_count": null,
   "metadata": {},
   "outputs": [],
   "source": [
    "out_dic['field_of_study']"
   ]
  },
  {
   "cell_type": "markdown",
   "metadata": {},
   "source": [
    "End"
   ]
  },
  {
   "cell_type": "markdown",
   "metadata": {},
   "source": [
    "## Pytrends Test"
   ]
  },
  {
   "cell_type": "code",
   "execution_count": null,
   "metadata": {},
   "outputs": [],
   "source": [
    "import pytrends\n",
    "from pytrends.request import TrendReq\n",
    "\n",
    "pytrend = TrendReq(hl='en-US', tz=360)\n",
    "#pytrend = TrendReq(hl='en-US', tz=360, proxies = {'https': 'https://34.203.233.13:80'})"
   ]
  },
  {
   "cell_type": "code",
   "execution_count": null,
   "metadata": {},
   "outputs": [],
   "source": [
    "#kw_list = [\"Blockchain\"]\n",
    "kw_list = ['generative adverserial network', 'neural machine translation', 'neural turing machine']\n",
    "pytrend.build_payload(kw_list, cat=0, timeframe='today 5-y', geo='', gprop='')"
   ]
  },
  {
   "cell_type": "code",
   "execution_count": null,
   "metadata": {},
   "outputs": [],
   "source": [
    "interest_over_time_df = pytrend.interest_over_time()\n",
    "print(interest_over_time_df)"
   ]
  },
  {
   "cell_type": "code",
   "execution_count": null,
   "metadata": {},
   "outputs": [],
   "source": [
    "def parse_scholar_id(in_str):\n",
    "    idx1 = in_str.find('user=') + 5\n",
    "    idx2 = in_str.find('&') #Check this!!\n",
    "    substr = in_str[idx1:idx2]\n",
    "    return substr\n",
    "\n",
    "def create_link(scholar_id):\n",
    "    return \"http://scholar.google.com/citations?user=\" + scholar_id + \"&hl=en\""
   ]
  },
  {
   "cell_type": "code",
   "execution_count": null,
   "metadata": {},
   "outputs": [],
   "source": [
    "query = \"Dieter Fox google scholar\"\n",
    "\n",
    "matches = set()\n",
    "for j in search(query, stop=5): \n",
    "    if \"scholar.google\" in j and len(j) < 100:\n",
    "        scholar_id = parse_scholar_id(j)\n",
    "        matches.add(scholar_id)\n",
    "        \n",
    "print('Number of links: ', len(matches))"
   ]
  },
  {
   "cell_type": "code",
   "execution_count": null,
   "metadata": {},
   "outputs": [],
   "source": [
    "scholar_id = matches.pop()\n",
    "link = create_link(scholar_id)\n",
    "print(link)\n",
    "page = requests.get(link)\n",
    "soup = BeautifulSoup(page.content, 'html.parser')\n",
    "print(soup.prettify())"
   ]
  }
 ],
 "metadata": {
  "kernelspec": {
   "display_name": "Python 3",
   "language": "python",
   "name": "python3"
  },
  "language_info": {
   "codemirror_mode": {
    "name": "ipython",
    "version": 3
   },
   "file_extension": ".py",
   "mimetype": "text/x-python",
   "name": "python",
   "nbconvert_exporter": "python",
   "pygments_lexer": "ipython3",
   "version": "3.6.6"
  }
 },
 "nbformat": 4,
 "nbformat_minor": 2
}

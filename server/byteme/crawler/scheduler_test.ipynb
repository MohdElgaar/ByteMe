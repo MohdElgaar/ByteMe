{
 "cells": [
  {
   "cell_type": "markdown",
   "metadata": {},
   "source": [
    "# Crawling class tests"
   ]
  },
  {
   "cell_type": "markdown",
   "metadata": {},
   "source": [
    "## Scholar crawling tests"
   ]
  },
  {
   "cell_type": "code",
   "execution_count": 1,
   "metadata": {},
   "outputs": [],
   "source": [
    "from models import *\n",
    "class Scholar:\n",
    "    def __init__(self, name='Sulo', univ='Kaist'):\n",
    "        self.name = name\n",
    "        self.univ = univ"
   ]
  },
  {
   "cell_type": "code",
   "execution_count": 2,
   "metadata": {},
   "outputs": [],
   "source": [
    "my_crawler = Crawler()\n",
    "s1 = Scholar()\n",
    "s2 = Scholar('mustafa')\n",
    "s3 = Scholar('jack', 'stanford')"
   ]
  },
  {
   "cell_type": "code",
   "execution_count": 3,
   "metadata": {},
   "outputs": [
    {
     "name": "stdout",
     "output_type": "stream",
     "text": [
      "{'name': 'Jeong Young Park', 'association': 'KAIST', 'title': <a class=\"gsc_prf_ila\" href=\"/citations?view_op=view_org&amp;hl=en&amp;oe=ASCII&amp;org=5340164518610934029\">KAIST</a>, 'citations': ['9046', '6522', '49', '42', '130', '114'], 'citation_str': ['All Citations', 'Citations since 2013', 'All h-index', 'h-index since 2013', 'All i10-index', 'i10 index since 2013'], 'years_cite': ['2005', '2006', '2007', '2008', '2009', '2010', '2011', '2012', '2013', '2014', '2015', '2016', '2017', '2018'], 'yearly_cite': ['35', '44', '88', '239', '254', '497', '577', '673', '882', '965', '977', '1204', '1126', '1334'], 'field_of_study': ['surface science', 'catalysis', 'scanning probe microscopy', 'tribology', 'hot electron'], 'co_authors': ['Sun Mi Kim', 'Patricia Ann Thiel', 'D. Frank Ogletree', 'Sang Hoon Joo', 'Hyunsoo Lee', 'Hyosun Lee', 'Ievgen I. Nedrygailov', 'Miquel Salmeron', 'Jin Sik Choi', 'Brundabana Naik', 'Hyungtak Seo', 'Yabing Qi', 'Yong-Hyun Kim', 'Jae-Hyeon Ko', 'Bae Ho Park', 'Young Kuk', 'ILKWON OH', 'Imma Ratera', 'Won Hui DOH', 'Bongjin Simon Mun'], 'co_auth_id': ['aDwnSFIAAAAJ', 'U9-xpREAAAAJ', '3DdxT0UAAAAJ', 'Dmt8DNQAAAAJ', 'prDLwv0AAAAJ', 'kSv-63AAAAAJ', 'NvRr2ywAAAAJ', 'SsS_8t8AAAAJ', '7TVpP_0AAAAJ', '4NKgZvsAAAAJ', 'mOcEwWwAAAAJ', 'mt2iEE8AAAAJ', 'yXt0JTAAAAAJ', 'O6X1cf0AAAAJ', 'nC9qcdoAAAAJ', 'rCXRqUcAAAAJ', 'GJHV48MAAAAJ', '3M4rKj4AAAAJ', 'RE5bU4QAAAAJ', 'VjXvp4wAAAAJ'], 'paper_names': ['Thermally stable Pt/mesoporous silica core–shell nanocatalysts for high-temperature reactions', 'Advancing the frontiers in nanocatalysis, biointerfaces, and renewable energy conversion by innovations of surface techniques', 'Molecular factors of catalytic selectivity', 'Size effect of ruthenium nanoparticles in catalytic carbon monoxide oxidation', 'Colloid science of metal nanoparticle catalysts in 2D and 3D structures. Challenges of nucleation, growth, composition, particle shape, size control and their influence on\\xa0…', 'A reactive oxide overlayer on rhodium nanoparticles during CO oxidation and its size dependence studied by in situ ambient‐pressure X‐ray photoelectron spectroscopy', 'Sum frequency generation and catalytic reaction studies of the removal of organic capping agents from Pt nanoparticles by UV− ozone treatment', 'Tuning of catalytic CO oxidation by changing composition of Rh− Pt bimetallic nanoparticles', 'Surface plasmon-driven hot electron flow probed with metal-semiconductor nanodiodes', 'High frictional anisotropy of periodic and aperiodic directions on a quasicrystal surface', 'Friction anisotropy–driven domain imaging on exfoliated monolayer graphene', 'The nanoscience revolution: merging of colloid science, catalysis and nanoelectronics', 'Superlubric sliding of graphene nanoflakes on graphene', 'The role of organic capping layers of platinum nanoparticles in catalytic activity of CO oxidation', 'The evolution of model catalytic systems; studies of structure, bonding and dynamics from single crystal metal surfaces to nanoparticles, and from low pressure (< 10− 3 Torr\\xa0…', 'Intrinsic relationship between enhanced oxygen reduction reaction activity and nanoscale work function of doped carbons', 'Enhanced nanoscale friction on fluorinated graphene', 'Molecular surface chemistry by metal single crystals and nanoparticles from vacuum to high pressure', 'Electronic control of friction in silicon pn junctions', 'Role of hot electrons and metal–oxide interfaces in surface chemistry and catalytic reactions'], 'cite_num': ['1064', '441', '363', '275', '257', '221', '204', '198', '192', '185', '180', '171', '170', '155', '153', '150', '146', '132', '130', '120'], 'paper_year': ['2009', '2009', '2008', '2010', '2008', '2008', '2009', '2008', '2011', '2005', '2011', '2008', '2013', '2009', '2007', '2014', '2012', '2008', '2006', '2015'], 'paper_authors': [['SH Joo', 'JY Park', 'CK Tsung', 'Y Yamada', 'P Yang', 'GA Somorjai'], ['GA Somorjai', 'H Frei', 'JY Park'], ['GA Somorjai', 'JY Park'], ['SH Joo', 'JY Park', 'JR Renzas', 'DR Butcher', 'W Huang', 'GA Somorjai'], ['GA Somorjai', 'JY Park'], ['ME Grass', 'Y Zhang', 'DR Butcher', 'JY Park', 'Y Li', 'H Bluhm', 'KM Bratlie'], ['C Aliaga', 'JY Park', 'Y Yamada', 'HS Lee', 'CK Tsung', 'P Yang', 'GA Somorjai'], ['JY Park', 'Y Zhang', 'M Grass', 'T Zhang', 'GA Somorjai'], ['YK Lee', 'CH Jung', 'J Park', 'H Seo', 'GA Somorjai', 'JY Park'], ['JY Park', 'DF Ogletree', 'M Salmeron', 'RA Ribeiro', 'PC Canfield', 'CJ Jenks'], ['JS Choi', 'JS Kim', 'IS Byun', 'DH Lee', 'MJ Lee', 'BH Park', 'C Lee', 'D Yoon'], ['GA Somorjai', 'F Tao', 'JY Park'], ['X Feng', 'S Kwon', 'JY Park', 'M Salmeron'], ['JY Park', 'C Aliaga', 'JR Renzas', 'H Lee', 'GA Somorjai'], ['GA Somorjai', 'RL York', 'D Butcher', 'JY Park'], ['JY Cheon', 'JH Kim', 'JH Kim', 'KC Goddeti', 'JY Park', 'SH Joo'], ['S Kwon', 'JH Ko', 'KJ Jeon', 'YH Kim', 'JY Park'], ['GA Somorjai', 'JY Park'], ['JY Park', 'DF Ogletree', 'PA Thiel', 'M Salmeron'], ['JY Park', 'LR Baker', 'GA Somorjai']], 'paper_confs': ['Nature materials 8 (2), 126', 'Journal of the American Chemical Society 131 (46), 16589-16605', 'Angewandte Chemie International Edition 47 (48), 9212-9228', 'Nano letters 10 (7), 2709-2713', 'Topics in Catalysis 49 (3-4), 126-135', 'Angewandte Chemie International Edition 47 (46), 8893-8896', 'The Journal of Physical Chemistry C 113 (15), 6150-6155', 'Nano letters 8 (2), 673-677', 'Nano letters 11 (10), 4251-4255', 'Science 309 (5739), 1354-1356', 'Science, 1207110', 'Topics in Catalysis 47 (1-2), 1-14', 'ACS nano 7 (2), 1718-1724', 'Catalysis letters 129 (1-2), 1-6', 'Physical Chemistry Chemical Physics 9 (27), 3500-3513', 'Journal of the American Chemical Society 136 (25), 8875-8878', 'Nano letters 12 (12), 6043-6048', 'Chemical Society Reviews 37 (10), 2155-2162', 'Science 313 (5784), 186-186', 'Chemical reviews 115 (8), 2781-2817']}\n"
     ]
    }
   ],
   "source": [
    "# Univ Scholar id Crawl\n",
    "#out = my_crawler.crawl_univ_scholar_ids('kaist', stop=200)\n",
    "\n",
    "#Scholar crawl\n",
    "out_dic = my_crawler.crawl_scholar(s1)\n",
    "print(out_dic)"
   ]
  },
  {
   "cell_type": "markdown",
   "metadata": {},
   "source": [
    "End"
   ]
  },
  {
   "cell_type": "markdown",
   "metadata": {},
   "source": [
    "## Pytrends Test"
   ]
  },
  {
   "cell_type": "code",
   "execution_count": null,
   "metadata": {},
   "outputs": [],
   "source": [
    "import pytrends\n",
    "from pytrends.request import TrendReq\n",
    "\n",
    "pytrend = TrendReq(hl='en-US', tz=360)\n",
    "#pytrend = TrendReq(hl='en-US', tz=360, proxies = {'https': 'https://34.203.233.13:80'})"
   ]
  },
  {
   "cell_type": "code",
   "execution_count": null,
   "metadata": {},
   "outputs": [],
   "source": [
    "#kw_list = [\"Blockchain\"]\n",
    "kw_list = ['generative adverserial network', 'neural machine translation', 'neural turing machine']\n",
    "pytrend.build_payload(kw_list, cat=0, timeframe='today 5-y', geo='', gprop='')"
   ]
  },
  {
   "cell_type": "code",
   "execution_count": null,
   "metadata": {},
   "outputs": [],
   "source": [
    "interest_over_time_df = pytrend.interest_over_time()\n",
    "print(interest_over_time_df)"
   ]
  },
  {
   "cell_type": "code",
   "execution_count": null,
   "metadata": {},
   "outputs": [],
   "source": [
    "def parse_scholar_id(in_str):\n",
    "    idx1 = in_str.find('user=') + 5\n",
    "    idx2 = in_str.find('&') #Check this!!\n",
    "    substr = in_str[idx1:idx2]\n",
    "    return substr\n",
    "\n",
    "def create_link(scholar_id):\n",
    "    return \"http://scholar.google.com/citations?user=\" + scholar_id + \"&hl=en\""
   ]
  },
  {
   "cell_type": "code",
   "execution_count": null,
   "metadata": {},
   "outputs": [],
   "source": [
    "query = \"Dieter Fox google scholar\"\n",
    "\n",
    "matches = set()\n",
    "for j in search(query, stop=5): \n",
    "    if \"scholar.google\" in j and len(j) < 100:\n",
    "        scholar_id = parse_scholar_id(j)\n",
    "        matches.add(scholar_id)\n",
    "        \n",
    "print('Number of links: ', len(matches))"
   ]
  },
  {
   "cell_type": "code",
   "execution_count": null,
   "metadata": {},
   "outputs": [],
   "source": [
    "scholar_id = matches.pop()\n",
    "link = create_link(scholar_id)\n",
    "print(link)\n",
    "page = requests.get(link)\n",
    "soup = BeautifulSoup(page.content, 'html.parser')\n",
    "print(soup.prettify())"
   ]
  }
 ],
 "metadata": {
  "kernelspec": {
   "display_name": "Python 3",
   "language": "python",
   "name": "python3"
  },
  "language_info": {
   "codemirror_mode": {
    "name": "ipython",
    "version": 3
   },
   "file_extension": ".py",
   "mimetype": "text/x-python",
   "name": "python",
   "nbconvert_exporter": "python",
   "pygments_lexer": "ipython3",
   "version": "3.6.6"
  }
 },
 "nbformat": 4,
 "nbformat_minor": 2
}

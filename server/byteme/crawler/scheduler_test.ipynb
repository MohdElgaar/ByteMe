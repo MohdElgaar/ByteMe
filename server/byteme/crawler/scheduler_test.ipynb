{
 "cells": [
  {
   "cell_type": "markdown",
   "metadata": {},
   "source": [
    "# Crawling class tests"
   ]
  },
  {
   "cell_type": "markdown",
   "metadata": {},
   "source": [
    "## Scholar crawling tests"
   ]
  },
  {
   "cell_type": "code",
   "execution_count": 1,
   "metadata": {},
   "outputs": [],
   "source": [
    "from models import *\n",
    "class Scholar:\n",
    "    def __init__(self, name='Min H Kim', univ='Kaist'):\n",
    "        self.name = name\n",
    "        self.univ = univ"
   ]
  },
  {
   "cell_type": "code",
   "execution_count": 2,
   "metadata": {},
   "outputs": [],
   "source": [
    "my_crawler = Crawler()\n",
    "s1 = Scholar()\n",
    "s2 = Scholar('giljoo')\n",
    "s3 = Scholar('jack', 'stanford')"
   ]
  },
  {
   "cell_type": "code",
   "execution_count": 4,
   "metadata": {},
   "outputs": [],
   "source": [
    "my_crawler.scholar_crawl_request(s1)\n",
    "my_crawler.scholar_crawl_request(s2)"
   ]
  },
  {
   "cell_type": "code",
   "execution_count": 5,
   "metadata": {},
   "outputs": [
    {
     "name": "stdout",
     "output_type": "stream",
     "text": [
      "Failed finding yearly citations\n",
      "{'name': 'Min H. Kim', 'association': 'KAIST', 'title': 'Associate Professor of Computer Science, ', 'citations': ['774', '528', '14', '13', '16', '16'], 'citation_str': ['All Citations', 'Citations since 2013', 'All h-index', 'h-index since 2013', 'All i10-index', 'i10 index since 2013'], 'years_cite': ['2009', '2010', '2011', '2012', '2013', '2014', '2015', '2016', '2017', '2018'], 'field_of_study': ['Computer Graphics & Vision', 'Computational Imaging', 'Color'], 'co_authors': ['Jan Kautz', 'Holly Rushmeier', 'Tobias Ritschel', 'Seung-Hwan Baek', 'Julie Dorsey', 'Carsten Dachsbacher', 'Inchang Choi', 'Diego Gutierrez', 'Hans-Peter Seidel', 'Giljoo Nam', 'Daniel Suk Jeon', 'David J Brady', 'Tim Weyrich', 'Richard O. Prum', 'Todd Alan Harvey', 'Insu Yu', \"Carol O'Sullivan\", 'David Tidmarsh', 'Dongmin Keum', 'James Tompkin'], 'co_auth_id': ['P9FclNEAAAAJ', 'saY3qN5NWbcC', 'KP_UI7sAAAAJ', 'IX93v14AAAAJ', 'IYXVU-QAAAAJ', 'q72ueY0AAAAJ', 'ObqhJVYAAAAJ', '7ja8HqUAAAAJ', 's2Ibok8AAAAJ', 'jNScip4AAAAJ', 'lCTaY6IAAAAJ', 'CcSZwTsAAAAJ', 'pUB0nnwhGVAC', 'PrtHleIAAAAJ', '2o1zvjQAAAAJ', 'Ws59p9gAAAAJ', 'VnOvdegAAAAJ', 'zouTsmQAAAAJ', 'KSgotcwAAAAJ', 'Ex3pgLAAAAAJ'], 'paper_names': ['Imperfect Shadow Maps for Efficient Computation of Indirect Illumination', 'Modeling Human Color Perception under Extended Luminance Levels', '3D Imaging Spectroscopy for Measuring Hyperspectral Patterns on Solid Objects', 'Characterization for High Dynamic Range Imaging', 'Perceptual Influence of Approximate Visibility in Indirect Illumination', 'Insitu: Sketching Architectural Designs in Context', \"Lock N' LoL: Mitigating Smartphone Disturbance in Co-located Social Interactions\", 'Consistent Tone Reproduction', 'Hyper3D: 3D Graphics Software for Examining Cultural Artifacts', 'High-Fidelity Colour Reproduction for High-Dynamic-Range Imaging', 'Paper3D: Bringing Casual 3D Modeling to a Multi-Touch Interface', 'Multispectral Photometric Stereo for Acquiring High-Fidelity Surface Normals', 'Edge-Aware Color Appearance', 'Multiview Image Completion with Space Structure Propagation', 'Laplacian Patch-Based Image Synthesis', 'DeepToF: Off-the-Shelf Real-Time Correction of Multipath Interference in Time-of-Flight Imaging', 'Rendering High Dynamic Range Images', 'High-Quality Hyperspectral Reconstruction Using a Spectral Prior', 'Simultaneous Acquisition of Microscale Reflectance and Normals', 'Measuring Color Defects in Flat Panel Displays Using HDR Imaging and Appearance Modeling'], 'cite_num': ['253', '79', '69', '45', '41', '28', '25', '24', '22', '16', '15', '15', '15', '14', '13', '10', '8', '7', '7', '7'], 'paper_year': ['2008', '2009', '2012', '2008', '2009', '2011', '2015', '2008', '2014', '2010', '2014', '2014', '2011', '2016', '2016', '2017', '2006', '2017', '2016', '2016'], 'paper_authors': [['T Ritschel', 'T Grosch', 'MH Kim', 'HP Seidel', 'C Dachsbacher', 'J Kautz'], ['MH Kim', 'T Weyrich', 'J Kautz'], ['MH Kim', 'TA Harvey', 'DS Kittle', 'H Rushmeier', 'J Dorsey', 'RO Prum'], ['MH Kim', 'J Kautz'], ['I Yu', 'A Cox', 'MH Kim', 'T Ritschel', 'T Grosch', 'C Dachsbacher', 'J Kautz'], ['P Paczkowski', 'MH Kim', 'Y Morvan', 'J Dorsey', 'H Rushmeier', \"C O'Sullivan\"], ['M Ko', 'C Wong', 'S Son', 'E Jung', 'U Lee', 'S Choi', 'S Jo', 'MH Kim'], ['MH Kim', 'J Kautz'], ['MH Kim', 'H Rushmeier', 'J Ffrench', 'I Passeri', 'D Tidmarsh'], ['MH Kim'], ['P Paczkowski', 'J Dorsey', 'H Rushmeier', 'MH Kim'], ['G Nam', 'MH Kim'], ['MH Kim', 'T Ritschel', 'J Kautz'], ['SH Baek', 'I Choi', 'MH Kim'], ['J Ho Lee', 'I Choi', 'MH Kim'], ['J Marco', 'Q Hernandez', 'A Munoz', 'Y Dong', 'A Jarabo', 'MH Kim', 'X Tong'], ['MH Kim', 'LW MacDonald'], ['I Choi', 'DS Jeon', 'G Nam', 'D Gutierrez', 'MH Kim'], ['G Nam', 'JH Lee', 'H Wu', 'D Gutierrez', 'MH Kim'], ['G Nam', 'H Lee', 'S Oh', 'MH Kim']], 'paper_confs': ['ACM Transactions on Graphics (TOG) 27 (5), 129', 'ACM Transactions on Graphics (TOG) 28 (3), 27', 'ACM Transactions on Graphics (TOG) 31 (4), 38', 'Computer Graphics Forum (CGF) 27 (2), 691-697', 'ACM Transactions on Applied Perception (TAP) 6 (4), 24', 'ACM Transactions on Graphics (TOG) 30 (182), 1-182', 'ACM CHI 2015 Extended Abstracts, 1561-1566', 'IASTED Conference on Computer Graphics and Imaging (CGIM), 152--159', 'ACM Journal on Computing and Cultural Heritage (JOCCH) 7 (3), 14', 'UCL (University College London)', 'ACM Symposium on User Interface Software and Technology (UIST), 23-32', 'IEEE Computer Graphics and Applications (CGA) 34 (6), 57--68', 'ACM Transactions on Graphics (TOG) 30 (2), 13', 'IEEE Conference on Computer Vision and Pattern Recognition (CVPR), 488-496', 'IEEE Conference on Computer Vision and Pattern Recognition (CVPR), 2727-2735', 'ACM Transactions on Graphics (TOG) 36 (6), 219:1--12', 'EVA Conference (EVA), 22.1-22.11', 'ACM Transactions on Graphics (TOG) 36 (6), 218:1--13', 'ACM Transactions on Graphics (TOG) 35 (6), 185:1-11', 'IEEE Transactions on Instrumentation and Measurement (TIM) 65 (2), 297--304']}\n",
      "Failed finding yearly citations\n",
      "Failed finding citation numbers\n",
      "{'name': 'Giljoo Nam', 'association': 'KAIST', 'title': 'PhD Student, ', 'citations': ['36', '34', '4', '4', '1', '1'], 'citation_str': ['All Citations', 'Citations since 2013', 'All h-index', 'h-index since 2013', 'All i10-index', 'i10 index since 2013'], 'years_cite': ['2015', '2016', '2017', '2018'], 'field_of_study': ['Computer Vision and Graphics'], 'co_authors': ['Min H. Kim', 'Diego Gutierrez', 'Inchang Choi', 'Daniel Suk Jeon'], 'co_auth_id': ['pMT5lrwAAAAJ', '7ja8HqUAAAAJ', 'ObqhJVYAAAAJ', 'lCTaY6IAAAAJ'], 'paper_names': ['Multispectral photometric stereo for acquiring high-fidelity surface normals', 'High-quality hyperspectral reconstruction using a spectral prior', 'Simultaneous acquisition of microscale reflectance and normals', 'Measuring color defects in flat panel displays using HDR imaging and appearance modeling', 'Practical SVBRDF Acquisition of 3D Objects with Unstructured Flash Photography'], 'paper_year': ['2014', '2017', '2016', '2016', '2018'], 'paper_authors': [['G Nam', 'MH Kim'], ['I Choi', 'DS Jeon', 'G Nam', 'D Gutierrez', 'MH Kim'], ['G Nam', 'JH Lee', 'H Wu', 'D Gutierrez', 'MH Kim'], ['G Nam', 'H Lee', 'S Oh', 'MH Kim'], ['G Nam', 'JH Lee', 'D Gutierrez', 'MH Kim']], 'paper_confs': ['IEEE computer graphics and applications 34 (6), 57-68', 'ACM Transactions on Graphics (TOG) 36 (6), 218', 'ACM Transactions on Graphics (TOG) 35 (6), 185', 'IEEE Transactions on Instrumentation and Measurement 65 (2), 297-304', 'ACM Transactions on Graphics (TOG) 37 (6), 267']}\n",
      "Failed finding yearly citations\n",
      "{'name': 'Jack W Baker', 'association': 'Stanford University', 'title': 'Civil and Environmental Engineering, ', 'citations': ['8849', '6600', '43', '40', '92', '85'], 'citation_str': ['All Citations', 'Citations since 2013', 'All h-index', 'h-index since 2013', 'All i10-index', 'i10 index since 2013'], 'years_cite': ['2005', '2006', '2007', '2008', '2009', '2010', '2011', '2012', '2013', '2014', '2015', '2016', '2017', '2018'], 'field_of_study': ['Structural Engineering', 'Risk', 'Structural Reliability', 'Seismic Hazard', 'Civil Engineering'], 'co_authors': ['Gregory G Deierlein', 'Brendon A Bradley', 'Yousef Bozorgnia', 'Jose E. Andrade', 'Paolo Bazzurro', 'Jonathan D. BRAY', 'Qiushi Chen', 'Gemma Cremen', 'Andy Fry', 'JOHN W WALLACE', 'Kenneth J. Elwood', 'William L. Ellsworth', 'Luis Ceferino', 'Ricardo Medina', 'Erica Seville', 'Giovinazzi Sonia', 'Kim Olsen', 'Jochen Köhler', 'Camilo Gomez', 'Anirudh Rao'], 'co_auth_id': ['R6ug5VUAAAAJ', 'k5w4RckAAAAJ', 'c9E3iDoAAAAJ', 'KWMPKGgAAAAJ', 'nI_G1XQAAAAJ', 'Hw-gEJcAAAAJ', 'LBt-PaYAAAAJ', 'BNnx2oAAAAAJ', 'Wp-Bz-QAAAAJ', 'ZvcvuVgAAAAJ', '0mhg-j0AAAAJ', '8VueNE4AAAAJ', 'ovqaNyoAAAAJ', '149s2HQAAAAJ', 'nBJlb5QAAAAJ', 'ynnCmNcAAAAJ', 'Ph4N9QsAAAAJ', '717S6z8AAAAJ', '0Fe1xB4AAAAJ', '3B8O4MEAAAAJ'], 'paper_names': ['Quantitative classification of near-fault ground motions using wavelet analysis', 'A vector‐valued ground motion intensity measure consisting of spectral acceleration and epsilon', 'Conditional mean spectrum: Tool for ground-motion selection', 'Spectral shape, epsilon and record selection', 'On the assessment of robustness', 'Incorporating modeling uncertainties in the assessment of seismic collapse risk of buildings', 'Correlation of spectral acceleration values from NGA ground motion models', 'A computationally efficient ground-motion selection algorithm for matching a target response spectrum mean and variance', 'Efficient analytical fragility function fitting using dynamic structural analysis', 'Correlation model for spatially distributed ground‐motion intensities', 'Correlation of response spectral values for multicomponent ground motions', 'Vector-valued ground motion intensity measures for probabilistic seismic demand analysis', 'NGA-West2 research project', 'An empirically calibrated framework for including the effects of near-fault directivity in probabilistic seismic hazard analysis', 'New ground motion selection procedures and selected motions for the PEER transportation research program', 'Which spectral acceleration are you using?', 'Statistical tests of the joint distribution of spectral acceleration values', 'Accounting for ground-motion spectral shape characteristics in structural collapse assessment through an adjustment for epsilon', 'Evaluation of ground motion selection and modification methods: Predicting median interstory drift response of buildings', 'Conditional spectrum‐based ground motion selection. Part I: hazard consistency for risk‐based assessments'], 'cite_num': ['610', '550', '527', '518', '331', '300', '299', '292', '291', '261', '236', '233', '189', '186', '181', '155', '141', '131', '130', '124'], 'paper_year': ['2007', '2005', '2011', '2006', '2008', '2009', '2008', '2011', '2015', '2009', '2006', '2006', '2014', '2011', '2011', '2006', '2008', '2009', '2009', '2013'], 'paper_authors': [['JW Baker'], ['JW Baker', 'C Allin Cornell'], ['JW Baker'], ['JW Baker', 'C Allin Cornell'], ['JW Baker', 'M Schubert', 'MH Faber'], ['AB Liel', 'CB Haselton', 'GG Deierlein', 'JW Baker'], ['JW Baker', 'N Jayaram'], ['N Jayaram', 'T Lin', 'JW Baker'], ['JW Baker'], ['N Jayaram', 'JW Baker'], ['JW Baker', 'CA Cornell'], ['JW Baker', 'CA Cornell'], ['Y Bozorgnia', 'NA Abrahamson', 'LA Atik', 'TD Ancheta', 'GM Atkinson'], ['SK Shahi', 'JW Baker'], ['JW Baker', 'T Lin', 'SK Shahi', 'N Jayaram'], ['JW Baker', 'CA Cornell'], ['N Jayaram', 'JW Baker'], ['CB Haselton', 'JW Baker', 'AB Liel', 'GG Deierlein'], ['CB Haselton', 'JW Baker', 'Y Bozorgnia', 'CA Goulet', 'E Kalkan', 'N Luco'], ['T Lin', 'CB Haselton', 'JW Baker']], 'paper_confs': ['Bulletin of the Seismological Society of America 97 (5), 1486-1501', 'Earthquake Engineering & Structural Dynamics 34 (10), 1193-1217', 'Journal of Structural Engineering 137 (3), 322-331', 'Earthquake Engineering & Structural Dynamics 35 (9), 1077-1095', 'Structural Safety 30 (3), 253-267', 'Structural Safety 31 (2), 197-211', 'Earthquake Spectra 24 (1), 299-317', 'Earthquake Spectra 27 (3), 797-815', 'Earthquake Spectra 31 (1), 579-599', 'Earthquake Engineering & Structural Dynamics 38 (15), 1687-1708', 'Bulletin of the seismological Society of America 96 (1), 215-227', 'Pacific Earthquake Engineering Research Center, College of Engineering\\xa0…', 'Earthquake Spectra 30 (3), 973-987', 'Bulletin of the Seismological Society of America 101 (2), 742-755', 'Pacific Earthquake Engineering Research Center, University of California\\xa0…', 'Earthquake Spectra 22 (2), 293-312', 'Bulletin of the Seismological Society of America 98 (5), 2231-2243', 'Journal of Structural Engineering 137 (3), 332-344', 'PEER report 1', 'Earthquake engineering & structural dynamics 42 (12), 1847-1865']}\n"
     ]
    },
    {
     "name": "stdout",
     "output_type": "stream",
     "text": [
      "Failed finding yearly citations\n",
      "{'name': 'Min H. Kim', 'association': 'KAIST', 'title': 'Associate Professor of Computer Science, ', 'citations': ['774', '528', '14', '13', '16', '16'], 'citation_str': ['All Citations', 'Citations since 2013', 'All h-index', 'h-index since 2013', 'All i10-index', 'i10 index since 2013'], 'years_cite': ['2009', '2010', '2011', '2012', '2013', '2014', '2015', '2016', '2017', '2018'], 'field_of_study': ['Computer Graphics & Vision', 'Computational Imaging', 'Color'], 'co_authors': ['Jan Kautz', 'Holly Rushmeier', 'Tobias Ritschel', 'Seung-Hwan Baek', 'Julie Dorsey', 'Carsten Dachsbacher', 'Inchang Choi', 'Diego Gutierrez', 'Hans-Peter Seidel', 'Giljoo Nam', 'Daniel Suk Jeon', 'David J Brady', 'Tim Weyrich', 'Richard O. Prum', 'Todd Alan Harvey', 'Insu Yu', \"Carol O'Sullivan\", 'David Tidmarsh', 'Dongmin Keum', 'James Tompkin'], 'co_auth_id': ['P9FclNEAAAAJ', 'saY3qN5NWbcC', 'KP_UI7sAAAAJ', 'IX93v14AAAAJ', 'IYXVU-QAAAAJ', 'q72ueY0AAAAJ', 'ObqhJVYAAAAJ', '7ja8HqUAAAAJ', 's2Ibok8AAAAJ', 'jNScip4AAAAJ', 'lCTaY6IAAAAJ', 'CcSZwTsAAAAJ', 'pUB0nnwhGVAC', 'PrtHleIAAAAJ', '2o1zvjQAAAAJ', 'Ws59p9gAAAAJ', 'VnOvdegAAAAJ', 'zouTsmQAAAAJ', 'KSgotcwAAAAJ', 'Ex3pgLAAAAAJ'], 'paper_names': ['Imperfect Shadow Maps for Efficient Computation of Indirect Illumination', 'Modeling Human Color Perception under Extended Luminance Levels', '3D Imaging Spectroscopy for Measuring Hyperspectral Patterns on Solid Objects', 'Characterization for High Dynamic Range Imaging', 'Perceptual Influence of Approximate Visibility in Indirect Illumination', 'Insitu: Sketching Architectural Designs in Context', \"Lock N' LoL: Mitigating Smartphone Disturbance in Co-located Social Interactions\", 'Consistent Tone Reproduction', 'Hyper3D: 3D Graphics Software for Examining Cultural Artifacts', 'High-Fidelity Colour Reproduction for High-Dynamic-Range Imaging', 'Paper3D: Bringing Casual 3D Modeling to a Multi-Touch Interface', 'Multispectral Photometric Stereo for Acquiring High-Fidelity Surface Normals', 'Edge-Aware Color Appearance', 'Multiview Image Completion with Space Structure Propagation', 'Laplacian Patch-Based Image Synthesis', 'DeepToF: Off-the-Shelf Real-Time Correction of Multipath Interference in Time-of-Flight Imaging', 'Rendering High Dynamic Range Images', 'High-Quality Hyperspectral Reconstruction Using a Spectral Prior', 'Simultaneous Acquisition of Microscale Reflectance and Normals', 'Measuring Color Defects in Flat Panel Displays Using HDR Imaging and Appearance Modeling'], 'cite_num': ['253', '79', '69', '45', '41', '28', '25', '24', '22', '16', '15', '15', '15', '14', '13', '10', '8', '7', '7', '7'], 'paper_year': ['2008', '2009', '2012', '2008', '2009', '2011', '2015', '2008', '2014', '2010', '2014', '2014', '2011', '2016', '2016', '2017', '2006', '2017', '2016', '2016'], 'paper_authors': [['T Ritschel', 'T Grosch', 'MH Kim', 'HP Seidel', 'C Dachsbacher', 'J Kautz'], ['MH Kim', 'T Weyrich', 'J Kautz'], ['MH Kim', 'TA Harvey', 'DS Kittle', 'H Rushmeier', 'J Dorsey', 'RO Prum'], ['MH Kim', 'J Kautz'], ['I Yu', 'A Cox', 'MH Kim', 'T Ritschel', 'T Grosch', 'C Dachsbacher', 'J Kautz'], ['P Paczkowski', 'MH Kim', 'Y Morvan', 'J Dorsey', 'H Rushmeier', \"C O'Sullivan\"], ['M Ko', 'C Wong', 'S Son', 'E Jung', 'U Lee', 'S Choi', 'S Jo', 'MH Kim'], ['MH Kim', 'J Kautz'], ['MH Kim', 'H Rushmeier', 'J Ffrench', 'I Passeri', 'D Tidmarsh'], ['MH Kim'], ['P Paczkowski', 'J Dorsey', 'H Rushmeier', 'MH Kim'], ['G Nam', 'MH Kim'], ['MH Kim', 'T Ritschel', 'J Kautz'], ['SH Baek', 'I Choi', 'MH Kim'], ['J Ho Lee', 'I Choi', 'MH Kim'], ['J Marco', 'Q Hernandez', 'A Munoz', 'Y Dong', 'A Jarabo', 'MH Kim', 'X Tong'], ['MH Kim', 'LW MacDonald'], ['I Choi', 'DS Jeon', 'G Nam', 'D Gutierrez', 'MH Kim'], ['G Nam', 'JH Lee', 'H Wu', 'D Gutierrez', 'MH Kim'], ['G Nam', 'H Lee', 'S Oh', 'MH Kim']], 'paper_confs': ['ACM Transactions on Graphics (TOG) 27 (5), 129', 'ACM Transactions on Graphics (TOG) 28 (3), 27', 'ACM Transactions on Graphics (TOG) 31 (4), 38', 'Computer Graphics Forum (CGF) 27 (2), 691-697', 'ACM Transactions on Applied Perception (TAP) 6 (4), 24', 'ACM Transactions on Graphics (TOG) 30 (182), 1-182', 'ACM CHI 2015 Extended Abstracts, 1561-1566', 'IASTED Conference on Computer Graphics and Imaging (CGIM), 152--159', 'ACM Journal on Computing and Cultural Heritage (JOCCH) 7 (3), 14', 'UCL (University College London)', 'ACM Symposium on User Interface Software and Technology (UIST), 23-32', 'IEEE Computer Graphics and Applications (CGA) 34 (6), 57--68', 'ACM Transactions on Graphics (TOG) 30 (2), 13', 'IEEE Conference on Computer Vision and Pattern Recognition (CVPR), 488-496', 'IEEE Conference on Computer Vision and Pattern Recognition (CVPR), 2727-2735', 'ACM Transactions on Graphics (TOG) 36 (6), 219:1--12', 'EVA Conference (EVA), 22.1-22.11', 'ACM Transactions on Graphics (TOG) 36 (6), 218:1--13', 'ACM Transactions on Graphics (TOG) 35 (6), 185:1-11', 'IEEE Transactions on Instrumentation and Measurement (TIM) 65 (2), 297--304']}\n",
      "Finished crawling :(\n"
     ]
    }
   ],
   "source": [
    "my_crawler.scholar_crawl_request(s3)\n",
    "my_crawler.scholar_crawl_request(s1)"
   ]
  },
  {
   "cell_type": "code",
   "execution_count": 8,
   "metadata": {},
   "outputs": [
    {
     "name": "stdout",
     "output_type": "stream",
     "text": [
      "Failed finding yearly citations\n",
      "['774', '528', '14', '13', '16', '16']\n"
     ]
    }
   ],
   "source": [
    "# Univ Scholar id Crawl\n",
    "#out = my_crawler.crawl_univ_scholar_ids('kaist', stop=200)\n",
    "\n",
    "#Scholar crawl\n",
    "out_dic = my_crawler.crawl_scholar(s1)"
   ]
  },
  {
   "cell_type": "code",
   "execution_count": 18,
   "metadata": {},
   "outputs": [
    {
     "name": "stdout",
     "output_type": "stream",
     "text": [
      "['All Citations', 'Citations since 2013', 'All h-index', 'h-index since 2013', 'All i10-index', 'i10 index since 2013'] \n",
      " ['774', '528', '14', '13', '16', '16']\n",
      "<class 'int'>\n"
     ]
    }
   ],
   "source": [
    "print(out_dic['citation_str'], '\\n' ,out_dic['citations'])\n",
    "a = out_dic['citations'][0]\n",
    "a = int(a)\n",
    "print(type(a))"
   ]
  },
  {
   "cell_type": "code",
   "execution_count": null,
   "metadata": {},
   "outputs": [],
   "source": []
  },
  {
   "cell_type": "markdown",
   "metadata": {},
   "source": [
    "End"
   ]
  },
  {
   "cell_type": "markdown",
   "metadata": {},
   "source": [
    "## Pytrends Test"
   ]
  },
  {
   "cell_type": "code",
   "execution_count": null,
   "metadata": {},
   "outputs": [],
   "source": [
    "import pytrends\n",
    "from pytrends.request import TrendReq\n",
    "\n",
    "pytrend = TrendReq(hl='en-US', tz=360)\n",
    "#pytrend = TrendReq(hl='en-US', tz=360, proxies = {'https': 'https://34.203.233.13:80'})"
   ]
  },
  {
   "cell_type": "code",
   "execution_count": null,
   "metadata": {},
   "outputs": [],
   "source": [
    "#kw_list = [\"Blockchain\"]\n",
    "kw_list = ['generative adverserial network', 'neural machine translation', 'neural turing machine']\n",
    "pytrend.build_payload(kw_list, cat=0, timeframe='today 5-y', geo='', gprop='')"
   ]
  },
  {
   "cell_type": "code",
   "execution_count": null,
   "metadata": {},
   "outputs": [],
   "source": [
    "interest_over_time_df = pytrend.interest_over_time()\n",
    "print(interest_over_time_df)"
   ]
  },
  {
   "cell_type": "code",
   "execution_count": null,
   "metadata": {},
   "outputs": [],
   "source": [
    "def parse_scholar_id(in_str):\n",
    "    idx1 = in_str.find('user=') + 5\n",
    "    idx2 = in_str.find('&') #Check this!!\n",
    "    substr = in_str[idx1:idx2]\n",
    "    return substr\n",
    "\n",
    "def create_link(scholar_id):\n",
    "    return \"http://scholar.google.com/citations?user=\" + scholar_id + \"&hl=en\""
   ]
  },
  {
   "cell_type": "code",
   "execution_count": null,
   "metadata": {},
   "outputs": [],
   "source": [
    "query = \"Dieter Fox google scholar\"\n",
    "\n",
    "matches = set()\n",
    "for j in search(query, stop=5): \n",
    "    if \"scholar.google\" in j and len(j) < 100:\n",
    "        scholar_id = parse_scholar_id(j)\n",
    "        matches.add(scholar_id)\n",
    "        \n",
    "print('Number of links: ', len(matches))"
   ]
  },
  {
   "cell_type": "code",
   "execution_count": null,
   "metadata": {},
   "outputs": [],
   "source": [
    "scholar_id = matches.pop()\n",
    "link = create_link(scholar_id)\n",
    "print(link)\n",
    "page = requests.get(link)\n",
    "soup = BeautifulSoup(page.content, 'html.parser')\n",
    "print(soup.prettify())"
   ]
  }
 ],
 "metadata": {
  "kernelspec": {
   "display_name": "Python 3",
   "language": "python",
   "name": "python3"
  },
  "language_info": {
   "codemirror_mode": {
    "name": "ipython",
    "version": 3
   },
   "file_extension": ".py",
   "mimetype": "text/x-python",
   "name": "python",
   "nbconvert_exporter": "python",
   "pygments_lexer": "ipython3",
   "version": "3.6.6"
  }
 },
 "nbformat": 4,
 "nbformat_minor": 2
}
